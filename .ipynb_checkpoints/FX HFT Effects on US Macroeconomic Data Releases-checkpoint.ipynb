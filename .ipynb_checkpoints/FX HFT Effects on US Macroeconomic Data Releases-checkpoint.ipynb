{
 "cells": [
  {
   "cell_type": "markdown",
   "id": "883a0e92",
   "metadata": {},
   "source": [
    "# High-Frequency Effects and Modelling on FX Market in Response to US Macroeconomic Data Releases"
   ]
  },
  {
   "cell_type": "markdown",
   "id": "7b231d69",
   "metadata": {},
   "source": [
    "## Steps:\n",
    "1. Research and Planning\n",
    "    * Define clear research goals and objectives\n",
    "    * Decide on macroeconomic events and FX pairs\n",
    "2. Literature Review\n",
    "    * Review past papers\n",
    "    * Identify gaps\n",
    "3. Data Collection and Processing\n",
    "    * Identify data sources\n",
    "    * Collect FX pairs (date, minute interval, \n",
    "    * Collect macroeconomic events (date, expected value, actual value)\n",
    "    * Merge datasets\n",
    "    * Do some analysis for data dimensionality (e.g., analysis whether to keep 10 minutes before and 10 minutes after only of the data release)\n",
    "    * Keep only data with the macro events (not whole month but only on data releases)\n",
    "4. Exploratory Analysis\n",
    "    * Correlation of price movement with each macro event expected vs actual\n",
    "    * Feature importance (which macro event brings more volume)\n",
    "5. Model Development\n",
    "    * Create some either ABM or probabilistic TS model based on historical data\n",
    "6. Backtesting and Market Simulation\n",
    "    * KPIs and statistical measurement of model on test data (can be same as past)\n",
    "    * Create a class/function to take input of a pair, expected value of macro data, and minute after event to give some price range and classification with confidence interval\n",
    "* Results and Discusion\n",
    "    * Interpret market reactions to economic data\n",
    "    * Compare model accuracy with benchmarks"
   ]
  },
  {
   "cell_type": "code",
   "execution_count": null,
   "id": "26471eb0",
   "metadata": {},
   "outputs": [],
   "source": []
  },
  {
   "cell_type": "code",
   "execution_count": null,
   "id": "18e909ec",
   "metadata": {},
   "outputs": [],
   "source": []
  },
  {
   "cell_type": "code",
   "execution_count": null,
   "id": "216456e9",
   "metadata": {},
   "outputs": [],
   "source": []
  },
  {
   "cell_type": "code",
   "execution_count": null,
   "id": "0733297b",
   "metadata": {},
   "outputs": [],
   "source": []
  },
  {
   "cell_type": "code",
   "execution_count": null,
   "id": "9e5563c0",
   "metadata": {},
   "outputs": [],
   "source": []
  },
  {
   "cell_type": "code",
   "execution_count": null,
   "id": "477e1a27",
   "metadata": {},
   "outputs": [],
   "source": []
  },
  {
   "cell_type": "code",
   "execution_count": null,
   "id": "f6fc5743",
   "metadata": {},
   "outputs": [],
   "source": []
  },
  {
   "cell_type": "code",
   "execution_count": null,
   "id": "916e370d",
   "metadata": {},
   "outputs": [],
   "source": []
  },
  {
   "cell_type": "code",
   "execution_count": null,
   "id": "3a94c537",
   "metadata": {},
   "outputs": [],
   "source": []
  },
  {
   "cell_type": "code",
   "execution_count": null,
   "id": "e17e5bbd",
   "metadata": {},
   "outputs": [],
   "source": []
  },
  {
   "cell_type": "code",
   "execution_count": null,
   "id": "ad5e59de",
   "metadata": {},
   "outputs": [],
   "source": []
  },
  {
   "cell_type": "code",
   "execution_count": null,
   "id": "ffe93f3f",
   "metadata": {},
   "outputs": [],
   "source": []
  },
  {
   "cell_type": "code",
   "execution_count": null,
   "id": "4f81a728",
   "metadata": {},
   "outputs": [],
   "source": []
  }
 ],
 "metadata": {
  "kernelspec": {
   "display_name": "Python 3 (ipykernel)",
   "language": "python",
   "name": "python3"
  },
  "language_info": {
   "codemirror_mode": {
    "name": "ipython",
    "version": 3
   },
   "file_extension": ".py",
   "mimetype": "text/x-python",
   "name": "python",
   "nbconvert_exporter": "python",
   "pygments_lexer": "ipython3",
   "version": "3.10.9"
  }
 },
 "nbformat": 4,
 "nbformat_minor": 5
}
