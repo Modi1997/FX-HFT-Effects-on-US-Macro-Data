{
 "cells": [
  {
   "cell_type": "markdown",
   "id": "883a0e92",
   "metadata": {},
   "source": [
    "# High-Frequency Effects and Modelling on FX Market in Response to US Macroeconomic Data Releases"
   ]
  },
  {
   "cell_type": "markdown",
   "id": "7b231d69",
   "metadata": {},
   "source": [
    "## Steps:\n",
    "1. Research and Planning\n",
    "    * Define clear research goals and objectives\n",
    "    * Decide on macroeconomic events and FX pairs\n",
    "2. Literature Review\n",
    "    * Review past papers\n",
    "    * Identify gaps\n",
    "3. Data Collection and Processing\n",
    "    * Identify data sources\n",
    "    * Collect FX pairs (date, minute interval, \n",
    "    * Collect macroeconomic events (date, expected value, actual value)\n",
    "    * Merge datasets\n",
    "    * Do some analysis for data dimensionality (e.g., analysis whether to keep 10 minutes before and 10 minutes after only of the data release)\n",
    "    * Keep only data with the macro events (not whole month but only on data releases)\n",
    "4. Exploratory Analysis\n",
    "    * Correlation of price movement with each macro event expected vs actual\n",
    "    * Feature importance (which macro event brings more volume)\n",
    "5. Model Development\n",
    "    * Create some either ABM or probabilistic TS model based on historical data\n",
    "6. Backtesting and Market Simulation\n",
    "    * KPIs and statistical measurement of model on test data (can be same as past)\n",
    "    * Create a class/function to take input of a pair, expected value of macro data, and minute after event to give some price range and classification with confidence interval\n",
    "* Results and Discusion\n",
    "    * Interpret market reactions to economic data\n",
    "    * Compare model accuracy with benchmarks"
   ]
  },
  {
   "cell_type": "code",
   "execution_count": 2,
   "id": "6779e375",
   "metadata": {},
   "outputs": [],
   "source": [
    "# Libraries\n",
    "import yfinance as yf\n",
    "import pandas as pd"
   ]
  },
  {
   "cell_type": "code",
   "execution_count": 23,
   "id": "26471eb0",
   "metadata": {
    "scrolled": true
   },
   "outputs": [
    {
     "name": "stdout",
     "output_type": "stream",
     "text": [
      "Price                     Adj Close     Close      High       Low      Open  \\\n",
      "Ticker                     EURUSD=X  EURUSD=X  EURUSD=X  EURUSD=X  EURUSD=X   \n",
      "Datetime                                                                      \n",
      "2025-01-29 00:00:00+00:00  1.043188  1.043188  1.043732  1.042970  1.042970   \n",
      "2025-01-29 01:00:00+00:00  1.043079  1.043079  1.043623  1.043079  1.043406   \n",
      "2025-01-29 02:00:00+00:00  1.043732  1.043732  1.043841  1.042970  1.042970   \n",
      "2025-01-29 03:00:00+00:00  1.044059  1.044059  1.044168  1.043515  1.043732   \n",
      "2025-01-29 04:00:00+00:00  1.044168  1.044168  1.044495  1.044059  1.044059   \n",
      "\n",
      "Price                       Volume  \n",
      "Ticker                    EURUSD=X  \n",
      "Datetime                            \n",
      "2025-01-29 00:00:00+00:00        0  \n",
      "2025-01-29 01:00:00+00:00        0  \n",
      "2025-01-29 02:00:00+00:00        0  \n",
      "2025-01-29 03:00:00+00:00        0  \n",
      "2025-01-29 04:00:00+00:00        0  \n"
     ]
    },
    {
     "data": {
      "text/plain": [
       "<Axes: xlabel='Datetime'>"
      ]
     },
     "execution_count": 23,
     "metadata": {},
     "output_type": "execute_result"
    },
    {
     "data": {
      "image/png": "[encoded data removed]",
      "text/plain": [
       "<Figure size 640x480 with 1 Axes>"
      ]
     },
     "metadata": {},
     "output_type": "display_data"
    }
   ],
   "source": [
    "def get_fx_data(pair: str, interval: str, start: str, end: str):\n",
    "    \"\"\"\n",
    "    Retrieve historical FX data from Yahoo Finance.\n",
    "    \n",
    "    Parameters:\n",
    "    - pair (str): FX pair symbol (e.g., \"DX-Y.NYB\" for DXY, \"GBPUSD=X\" for USD/GBP).\n",
    "    - interval (str): Data interval (\"1m\", \"2m\", \"5m\", \"15m\", \"30m\", \"1h\", \"1d\", \"1wk\", \"1mo\").\n",
    "    - start (str): Start date in \"YYYY-MM-DD\" format.\n",
    "    - end (str): End date in \"YYYY-MM-DD\" format.\n",
    "\n",
    "    Returns:\n",
    "    - DataFrame: Historical price data for the given FX pair.\n",
    "    \"\"\"\n",
    "\n",
    "    # FX pair symbols for Yahoo Finance\n",
    "    fx_symbols = {\n",
    "        \"DXY\": \"DX-Y.NYB\",\n",
    "        \"USD/GBP\": \"GBPUSD=X\",\n",
    "        \"USD/EUR\": \"EURUSD=X\",\n",
    "        \"USD/CNY\": \"CNY=X\"\n",
    "    }\n",
    "\n",
    "    # Convert start and end dates to datetime objects\n",
    "    start_date = datetime.strptime(start, \"%Y-%m-%d\")\n",
    "    end_date = datetime.strptime(end, \"%Y-%m-%d\")\n",
    "\n",
    "    # Validate intraday intervals and limit them to the last 30 days\n",
    "    intraday_intervals = [\"1m\", \"2m\", \"5m\", \"15m\", \"30m\", \"1h\"]\n",
    "    max_intraday_days = 30\n",
    "\n",
    "    if interval in intraday_intervals:\n",
    "        last_available_date = datetime.today() - timedelta(days=max_intraday_days)\n",
    "        if start_date < last_available_date:\n",
    "            raise ValueError(f\"Intraday data ('{interval}') is only available for the last {max_intraday_days} days. \"\n",
    "                             f\"Adjust your start date to {last_available_date.strftime('%Y-%m-%d')} or later.\")\n",
    "\n",
    "    # Fetch data from Yahoo Finance\n",
    "    data = yf.download(fx_symbols[pair], start=start, end=end, interval=interval, progress=False)\n",
    "\n",
    "    if data.empty:\n",
    "        raise ValueError(\"No data retrieved. Check your parameters and internet connection.\")\n",
    "\n",
    "    return data\n",
    "\n",
    "# Example Usage:\n",
    "df = get_fx_data(pair=\"USD/EUR\", interval=\"1h\", start=\"2025-01-29\", end=\"2025-01-30\")\n",
    "print(df.head())\n",
    "df['Volume'].plot()"
   ]
  },
  {
   "cell_type": "code",
   "execution_count": 29,
   "id": "0733297b",
   "metadata": {},
   "outputs": [
    {
     "name": "stderr",
     "output_type": "stream",
     "text": [
      "\r",
      "[*********************100%***********************]  1 of 1 completed"
     ]
    },
    {
     "name": "stdout",
     "output_type": "stream",
     "text": [
      "Price      Adj Close    Close     High      Low     Open   Volume\n",
      "Ticker      USDGBP=X USDGBP=X USDGBP=X USDGBP=X USDGBP=X USDGBP=X\n",
      "Date                                                             \n",
      "2023-01-02   0.82506  0.82506  0.83073  0.82485  0.82507        0\n",
      "2023-01-03   0.82899  0.82899  0.84007  0.82713  0.82891        0\n",
      "2023-01-04   0.83544  0.83544  0.83558  0.82736  0.83558        0\n",
      "2023-01-05   0.82939  0.82939  0.84189  0.82794  0.82969        0\n",
      "2023-01-06   0.83947  0.83947  0.84427  0.82867  0.83961        0\n"
     ]
    },
    {
     "name": "stderr",
     "output_type": "stream",
     "text": [
      "\n"
     ]
    }
   ],
   "source": [
    "def get_fx_data(fx_pair, interval='1d', start_date=None, end_date=None):\n",
    "    \"\"\"\n",
    "    Retrieve historical data for a given FX pair.\n",
    "\n",
    "    Parameters:\n",
    "    - fx_pair (str): The FX pair to retrieve data for (e.g., 'USDGBP=X', 'USDEUR=X', 'DX-Y.NYB', 'USDCNY=X').\n",
    "    - interval (str): The interval for the data (e.g., '1m', '1d', '1wk', '1mo').\n",
    "    - start_date (str): The start date in 'YYYY-MM-DD' format.\n",
    "    - end_date (str): The end date in 'YYYY-MM-DD' format.\n",
    "\n",
    "    Returns:\n",
    "    - pd.DataFrame: A DataFrame containing the historical data.\n",
    "    \"\"\"\n",
    "    try:\n",
    "        # Fetch data using yfinance\n",
    "        data = yf.download(fx_pair, start=start_date, end=end_date, interval=interval)\n",
    "        return data\n",
    "    except Exception as e:\n",
    "        print(f\"An error occurred: {e}\")\n",
    "        return None\n",
    "\n",
    "# Example usage:\n",
    "fx_pair = 'USDGBP=X'  # USD/GBP\n",
    "interval = '1d'       # Daily data\n",
    "start_date = '2025-01-29'\n",
    "end_date = '2025-01-30'\n",
    "\n",
    "data = get_fx_data(fx_pair, interval, start_date, end_date)\n",
    "if data is not None:\n",
    "    print(data.head())"
   ]
  },
  {
   "cell_type": "code",
   "execution_count": null,
   "id": "9e5563c0",
   "metadata": {},
   "outputs": [],
   "source": []
  },
  {
   "cell_type": "code",
   "execution_count": null,
   "id": "477e1a27",
   "metadata": {},
   "outputs": [],
   "source": []
  },
  {
   "cell_type": "code",
   "execution_count": null,
   "id": "f6fc5743",
   "metadata": {},
   "outputs": [],
   "source": []
  },
  {
   "cell_type": "code",
   "execution_count": null,
   "id": "916e370d",
   "metadata": {},
   "outputs": [],
   "source": []
  },
  {
   "cell_type": "code",
   "execution_count": null,
   "id": "3a94c537",
   "metadata": {},
   "outputs": [],
   "source": []
  },
  {
   "cell_type": "code",
   "execution_count": null,
   "id": "e17e5bbd",
   "metadata": {},
   "outputs": [],
   "source": []
  },
  {
   "cell_type": "code",
   "execution_count": null,
   "id": "ad5e59de",
   "metadata": {},
   "outputs": [],
   "source": []
  },
  {
   "cell_type": "code",
   "execution_count": null,
   "id": "ffe93f3f",
   "metadata": {},
   "outputs": [],
   "source": []
  },
  {
   "cell_type": "code",
   "execution_count": null,
   "id": "4f81a728",
   "metadata": {},
   "outputs": [],
   "source": []
  }
 ],
 "metadata": {
  "kernelspec": {
   "display_name": "Python 3 (ipykernel)",
   "language": "python",
   "name": "python3"
  },
  "language_info": {
   "codemirror_mode": {
    "name": "ipython",
    "version": 3
   },
   "file_extension": ".py",
   "mimetype": "text/x-python",
   "name": "python",
   "nbconvert_exporter": "python",
   "pygments_lexer": "ipython3",
   "version": "3.10.9"
  }
 },
 "nbformat": 4,
 "nbformat_minor": 5
}
