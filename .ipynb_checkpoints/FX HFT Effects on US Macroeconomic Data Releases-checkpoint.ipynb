{
 "cells": [
  {
   "cell_type": "markdown",
   "id": "883a0e92",
   "metadata": {},
   "source": [
    "# High-Frequency Effects and Modelling on FX Market in Response to US Macroeconomic Data Releases"
   ]
  },
  {
   "cell_type": "markdown",
   "id": "7b231d69",
   "metadata": {},
   "source": [
    "## Steps:\n",
    "1. Research and Planning\n",
    "    * Define clear research goals and objectives\n",
    "    * Decide on macroeconomic events and FX pairs\n",
    "2. Literature Review\n",
    "    * Review past papers\n",
    "    * Identify gaps\n",
    "3. Data Collection and Processing\n",
    "    * Identify data sources\n",
    "    * Collect FX pairs (date, minute interval, \n",
    "    * Collect macroeconomic events (date, expected value, actual value)\n",
    "    * Merge datasets\n",
    "    * Do some analysis for data dimensionality (e.g., analysis whether to keep 10 minutes before and 10 minutes after only of the data release)\n",
    "    * Keep only data with the macro events (not whole month but only on data releases)\n",
    "4. Exploratory Analysis\n",
    "    * Correlation of price movement with each macro event expected vs actual\n",
    "    * Feature importance (which macro event brings more volume)\n",
    "5. Model Development\n",
    "    * Create some either ABM or probabilistic TS model based on historical data\n",
    "6. Backtesting and Market Simulation\n",
    "    * KPIs and statistical measurement of model on test data (can be same as past)\n",
    "    * Create a class/function to take input of a pair, expected value of macro data, and minute after event to give some price range and classification with confidence interval\n",
    "* Results and Discusion\n",
    "    * Interpret market reactions to economic data\n",
    "    * Compare model accuracy with benchmarks"
   ]
  },
  {
   "cell_type": "markdown",
   "id": "02014ad0",
   "metadata": {},
   "source": [
    "----------------------"
   ]
  },
  {
   "cell_type": "markdown",
   "id": "25796743",
   "metadata": {},
   "source": [
    "## Libraries"
   ]
  },
  {
   "cell_type": "code",
   "execution_count": 1,
   "id": "11ee7094",
   "metadata": {},
   "outputs": [],
   "source": [
    "# Libraries for data fetching\n",
    "import yfinance as yf\n",
    "from polygon import RESTClient\n",
    "from fredapi import Fred\n",
    "\n",
    "# Libraries for data analysis\n",
    "import pandas as pd\n",
    "import numpy as np\n",
    "import matplotlib.pyplot as plt\n",
    "import matplotlib.dates as mdates"
   ]
  },
  {
   "cell_type": "markdown",
   "id": "105fb47d",
   "metadata": {},
   "source": [
    "----------------------"
   ]
  },
  {
   "cell_type": "markdown",
   "id": "df1d2bbd",
   "metadata": {},
   "source": [
    "## Data Retrieval\n",
    "* Data Collection FX pair tickers (symbols) for **Yahoo Finance**: \n",
    "    * **DXY** 🠆 \"DX-Y.NYB\",\n",
    "    * **USD/GBP** 🠆 \"GBPUSD=X\",\n",
    "    * **USD/EUR** 🠆 \"EURUSD=X\",\n",
    "    * **USD/CNY** 🠆 \"CNY=X\"\n",
    "\n",
    "\n",
    "* Data Collection FX pair tickers (symbols) for **Polygon.io**:\n",
    "    * **USD/EUR** 🠆 C:USD/EUR\n",
    "    * **USD/GBP** 🠆 C:USD/GBP\n",
    "    * **USD/CNY** 🠆 C:USD/CHF\n",
    "    \n",
    "* Data Collection FX pair tickers (symbols) for **fred.stlouisfed.org**:\n",
    "    * **Inflation** 🠆 CPIAUCSL\n",
    "    * **Interest Rates** 🠆 FEDFUNDS\n",
    "    * **GDP** 🠆 GDPC1\n",
    "    * **Unemployment Rate** 🠆 UNRATE\n",
    "    * **PMI** 🠆 NAPM\n",
    "    * **DXY** 🠆 DTWEXBGS"
   ]
  },
  {
   "cell_type": "code",
   "execution_count": 2,
   "id": "0733297b",
   "metadata": {},
   "outputs": [],
   "source": [
    "def yf_get_fx_data(fx_pair, interval, start_date, end_date):\n",
    "    \"\"\"\n",
    "    Retrieve historical data for a given FX pair from Yahoo Finance. \n",
    "\n",
    "    Parameters:\n",
    "    - fx_pair (str): The FX pair to retrieve data for FX pairs and DXY (USD Index).\n",
    "    - interval (str): The interval for the data (e.g., '1m', '1d', '1wk', '1mo').\n",
    "    - start_date (str): The start date in 'YYYY-MM-DD' format.\n",
    "    - end_date (str): The end date in 'YYYY-MM-DD' format.\n",
    "\n",
    "    Returns:\n",
    "    - pd.DataFrame: A DataFrame containing the historical data.\n",
    "    \"\"\"\n",
    "    try:\n",
    "        # Fetch data using yfinance in the form of 'Year-Month-Date Minutes'\n",
    "        data = yf.download(fx_pair, start=start_date, end=end_date, interval=interval)\n",
    "        \n",
    "        # Modify datetime and set it as index\n",
    "        data.index = data.index.strftime('%Y-%m-%d %H:%M')\n",
    "        \n",
    "        # Column manipulation\n",
    "        data.columns = data.columns.droplevel(1) # Drop the Ticker Column level\n",
    "        data = data.rename_axis(f'{fx_pair}', axis=1) # Rename axis 1\n",
    "        data.index = pd.to_datetime(data.index)\n",
    "        data = data[[\"Open\", \"High\", \"Low\", \"Adj Close\"]]\n",
    "\n",
    "        return data\n",
    "    \n",
    "    except Exception as e:\n",
    "        print(f\"An error occurred: {e}\")\n",
    "        return None\n",
    "\n",
    "\n",
    "def polygon_get_fx_data(fx_pair, interval, start_date, end_date, api_key='0GbCWQKVtPfEMJvPmc1n50psE3zsW1c8'):\n",
    "    \"\"\"\n",
    "    Retrieve historical FX data from Polygon.io.\n",
    "\n",
    "    Parameters:\n",
    "    - interval (str): The interval for the data ('1m', '5m', '1h', '1d').\n",
    "    - start_date (str): The start date in 'YYYY-MM-DD' format.\n",
    "    - end_date (str): The end date in 'YYYY-MM-DD' format.\n",
    "    - api_key (str): Polygon.io API key.\n",
    "\n",
    "    Returns:\n",
    "    - pd.DataFrame: A DataFrame containing historical USD/CNY forex data.\n",
    "    \"\"\"\n",
    "    try:\n",
    "        # Bring the fx pair ticker to Polygon's format\n",
    "        fx_pair_polygon_formated = \"C:\" + str(fx_pair)\n",
    "\n",
    "        client = RESTClient(api_key)\n",
    "\n",
    "        # Request data\n",
    "        data_request = client.get_aggs(\n",
    "            ticker=fx_pair_polygon_formated, \n",
    "            multiplier=1, \n",
    "            timespan=interval,\n",
    "            from_=start_date, \n",
    "            to=end_date\n",
    "        )\n",
    "    \n",
    "        # Convert response to DataFrame\n",
    "        df = pd.DataFrame(data_request)\n",
    "        \n",
    "        # Check if data is returned\n",
    "        if df.empty:\n",
    "            print(\"No data found.\")\n",
    "            return None\n",
    "\n",
    "        # Convert timestamp to datetime format and set Datetime as an index\n",
    "        df[\"Datetime\"] = pd.to_datetime(df[\"timestamp\"], unit=\"ms\")\n",
    "        df.set_index(\"Datetime\", inplace=True)\n",
    "        \n",
    "        # Drop columns not needed\n",
    "        df = df.drop(columns=[\"otc\", \"transactions\", \"timestamp\"])\n",
    "        \n",
    "        # Rename columns to align with yf for the feature engineering and merging later on\n",
    "        df = df.rename(columns={\"open\": \"Open\", \"high\": \"High\", \"low\": \"Low\", \"close\": \"Adj Close\", \"volume\": \"Volume\"})\n",
    "        df = df.rename_axis(f'{fx_pair}', axis=1)\n",
    "        \n",
    "        return df\n",
    "\n",
    "    except Exception as e:\n",
    "        print(f\"An error occurred: {e}\")\n",
    "        return None\n",
    "    \n",
    "    \n",
    "def fetch_fred_data(indicator, start_date, end_date, api_key = \"134a864b086b836aabbdeb1fc9022c5a\"):\n",
    "    \"\"\"\n",
    "    Fetches historical economic data from FRED based on the selected economic indicator for given period.\n",
    "\n",
    "    Parameters:\n",
    "    - series_id (str): The FRED series ID (e.g., \"UNRATE\" for Unemployment Rate).\n",
    "    - start_date (str): The start date in 'YYYY-MM-DD' format.\n",
    "    - end_date (str): The end date in 'YYYY-MM-DD' format.\n",
    "    - api_key (str): Your FRED API key.\n",
    "\n",
    "    Returns:\n",
    "    - pd.DataFrame: A DataFrame containing the requested economic data with percentage change. \n",
    "                    If CPI data is requested then Year Over Year difference is presented as well.\n",
    "    \"\"\"\n",
    "    try:\n",
    "        # Initialize FRED API\n",
    "        fred = Fred(api_key=api_key)\n",
    "\n",
    "        # Fetch data\n",
    "        data = fred.get_series(indicator)\n",
    "\n",
    "        # Convert to DataFrame\n",
    "        df = pd.DataFrame(data, columns=[indicator])\n",
    "        df.index.name = \"Date\"\n",
    "\n",
    "        # Filter based on start and end date\n",
    "        df = df.loc[start_date:end_date]\n",
    "        \n",
    "        # Calculate percentage change from previous row\n",
    "        df[\"Percentage_Change\"] = (df[indicator].pct_change()).round(4)\n",
    "        \n",
    "        # 12-month YoY inflation\n",
    "        if indicator == \"CPIAUCSL\":\n",
    "            df[\"YoY_Inflation\"] = (df[indicator].pct_change(12) * 100).round(2)\n",
    "\n",
    "        return df\n",
    "\n",
    "    except Exception as e:\n",
    "        print(f\"Error fetching data: {e}\")\n",
    "        return None"
   ]
  },
  {
   "cell_type": "markdown",
   "id": "c700d944",
   "metadata": {},
   "source": [
    "----------------------"
   ]
  },
  {
   "cell_type": "markdown",
   "id": "d0439d3a",
   "metadata": {},
   "source": [
    "## Feature Engineering"
   ]
  },
  {
   "cell_type": "code",
   "execution_count": 3,
   "id": "7fac11ce",
   "metadata": {},
   "outputs": [],
   "source": [
    "def calculate_volatility(df):\n",
    "    \"\"\"\n",
    "    Calculate the average volatility dynamically based on the number of rows in the DataFrame.\n",
    "\n",
    "    Parameters:\n",
    "    - df (pd.DataFrame): FX data.\n",
    "\n",
    "    Returns:\n",
    "    - pd.DataFrame: The original DataFrame with added 'Volatility', 'Average_Volatility', and 'Volatility_Multiplier' columns.\n",
    "\n",
    "    \"\"\"\n",
    "\n",
    "    if df is None or df.empty:\n",
    "        print(\"Error: DataFrame is empty or invalid.\")\n",
    "        return None\n",
    "\n",
    "    # Calculate Log Returns\n",
    "    df['Log_Returns'] = np.log(df['Adj Close'] / df['Adj Close'].shift(1))\n",
    "    # Compute Volatility\n",
    "    df['Volatility'] = df['Log_Returns'].abs()\n",
    "    # Compute Average Volatility based on number of rows\n",
    "    df['Average_Volatility'] = df['Volatility'].mean()\n",
    "    # Compute Volatility Multiplier\n",
    "    df['Volatility_Multiplier'] = round(df['Volatility'] / df['Average_Volatility'],2)\n",
    "\n",
    "    return df"
   ]
  },
  {
   "cell_type": "markdown",
   "id": "228bf640",
   "metadata": {},
   "source": [
    "------------"
   ]
  },
  {
   "cell_type": "markdown",
   "id": "99839827",
   "metadata": {},
   "source": [
    "## Plotting Functions"
   ]
  },
  {
   "cell_type": "code",
   "execution_count": 4,
   "id": "288d3768",
   "metadata": {},
   "outputs": [],
   "source": [
    "def plot_time_series(df, column):\n",
    "    \"\"\"\n",
    "    Plots a time series for a given data and column.\n",
    "\n",
    "    Parameters:\n",
    "    - df (pd.DataFrame): DataFrame containing time series data with a Datetime index.\n",
    "    - column (str): Column name to plot.\n",
    "    - title (str): Title of the plot (default: \"Time Series Plot\").\n",
    "\n",
    "    Returns:\n",
    "    - None (Displays the plot)\n",
    "    \"\"\"\n",
    "    \n",
    "    if column not in df.columns:\n",
    "        print(f\"Error: Column '{column}' not found in DataFrame.\")\n",
    "        return None\n",
    "    \n",
    "    fx_pair = df.columns.name if df.columns.name else \"FX Pair\"\n",
    "    # Create plot\n",
    "    fig, ax = plt.subplots(figsize=(12, 6))\n",
    "    df[column].plot(ax=ax)\n",
    "    \n",
    "    # Improve x-axis readability\n",
    "    ax.set_xlabel(\"Datetime\", fontsize=12)\n",
    "    ax.set_ylabel(column, fontsize=12)\n",
    "    ax.set_title(f\"'{fx_pair}' {column} Over Time\", fontsize=14)\n",
    "    ax.tick_params(axis='x', rotation=0)\n",
    "    \n",
    "    # Ensure the x-axis starts and ends exactly at the first and last data points (applicable only to yf data)\n",
    "    if \"vwap\" not in df.columns:\n",
    "        # Format x-axis to time\n",
    "        ax.xaxis.set_major_formatter(mdates.DateFormatter('%H:%M'))\n",
    "        ax.xaxis.set_major_locator(mdates.AutoDateLocator())\n",
    "        ax.set_xlim(df.index.min(), df.index.max())\n",
    "\n",
    "    ax.grid(True, which=\"major\", linestyle=\"-\", linewidth=0.6, alpha=1)  # Major grid\n",
    "    ax.grid(True, which=\"minor\", linestyle=\"-\", linewidth=0.5, alpha=1)  # Minor grid\n",
    "\n",
    "    plt.show()\n",
    "    pass"
   ]
  },
  {
   "cell_type": "markdown",
   "id": "23ac884f",
   "metadata": {},
   "source": [
    "----------------------"
   ]
  },
  {
   "cell_type": "markdown",
   "id": "c977cbc4",
   "metadata": {},
   "source": [
    "## Testing functionalities"
   ]
  },
  {
   "cell_type": "code",
   "execution_count": 9,
   "id": "67db0ab6",
   "metadata": {
    "scrolled": false
   },
   "outputs": [],
   "source": [
    "# YF data\n",
    "# fx_data = calculate_volatility(yf_get_fx_data('USDGBP=X', '1m', '2025-01-15', '2025-01-16'))\n",
    "\n",
    "# Polygon data\n",
    "# polygon_fx_data = calculate_volatility(polygon_get_fx_data(\"USDGBP\", \"minute\", \"2025-01-15\", \"2025-01-15\"))"
   ]
  },
  {
   "cell_type": "code",
   "execution_count": 6,
   "id": "659c33d7",
   "metadata": {
    "scrolled": false
   },
   "outputs": [],
   "source": [
    "# fx_data\n",
    "# polygon_fx_data"
   ]
  },
  {
   "cell_type": "code",
   "execution_count": 7,
   "id": "20594a5c",
   "metadata": {
    "scrolled": false
   },
   "outputs": [],
   "source": [
    "# plot_time_series(fx_data, column=\"Adj Close\") # YF\n",
    "#plot_time_series(polygon_fx_data, \"Adj Close\") # Polygon"
   ]
  },
  {
   "cell_type": "markdown",
   "id": "378dab0e",
   "metadata": {},
   "source": [
    "-----------"
   ]
  },
  {
   "cell_type": "markdown",
   "id": "7092b4f5",
   "metadata": {},
   "source": [
    "## 1. Daily Volume per Year"
   ]
  },
  {
   "cell_type": "markdown",
   "id": "d21b87c8",
   "metadata": {},
   "source": [
    "Bloomberg terminal needed for data depth per year and also volume"
   ]
  },
  {
   "cell_type": "markdown",
   "id": "456733a0",
   "metadata": {},
   "source": [
    "## 2. Volume per Country\n",
    "Bloomberg terminal needed for data depth per year and also volume"
   ]
  },
  {
   "cell_type": "markdown",
   "id": "0d4426fa",
   "metadata": {},
   "source": [
    "## 3. Economic Data Seasonality"
   ]
  },
  {
   "cell_type": "markdown",
   "id": "9bb4c60d",
   "metadata": {},
   "source": [
    "* **CPI** monthly (10-15 on each month)\n",
    "* **IR** 6 weeks\n",
    "* **GDP** Quarterly\n",
    "* **UNRATE** monthly (every 1st Friday)\n",
    "* **PMI** monthly (first business day)"
   ]
  },
  {
   "cell_type": "markdown",
   "id": "3e925ca3",
   "metadata": {},
   "source": [
    "Bloomberg terminal needed for:\n",
    "1. Exact Dates for each event listed above for the past 10 years\n",
    "2. Expected Value vs Actual Value (surprise)"
   ]
  },
  {
   "cell_type": "code",
   "execution_count": 8,
   "id": "8561d478",
   "metadata": {
    "scrolled": true
   },
   "outputs": [],
   "source": [
    "# Example Usage\n",
    "economic_data = fetch_fred_data(indicator=\"CPIAUCSL\", start_date=\"2015-01-01\", end_date=\"2025-01-01\")\n",
    "# economic_data"
   ]
  },
  {
   "cell_type": "markdown",
   "id": "46703c76",
   "metadata": {},
   "source": [
    "## 4.  Economic Announcment Selection - Feature Importance / Importance of Macro events (feature importance on movement based on price change and volatility)"
   ]
  },
  {
   "cell_type": "markdown",
   "id": "bfde76ba",
   "metadata": {},
   "source": [
    "1. Do some feature importance to keep the major macro data releases and do detailed analysis on these ones."
   ]
  },
  {
   "cell_type": "markdown",
   "id": "c9875982",
   "metadata": {},
   "source": [
    "## 5. Responses to CPI, IR, GDP, Unemployment Rate (R2 before appendix) - Jump (R4 p32) - Volatility Increase on each event table - Data Release Trend: Before/On/After"
   ]
  },
  {
   "cell_type": "markdown",
   "id": "ddedb767",
   "metadata": {},
   "source": [
    "1. Charts\n",
    "2. Table with all info for CPI, IR, GDP, UR, JUMP, Vol increase from avg for all pairs"
   ]
  },
  {
   "cell_type": "markdown",
   "id": "e96cf155",
   "metadata": {},
   "source": [
    "## 6. Prior vs Now (volatility and importance)"
   ]
  },
  {
   "cell_type": "markdown",
   "id": "4e4cff81",
   "metadata": {},
   "source": [
    "1. Bar chart showing importance % in the past for the price movement for all events (x axis) on DXY:\n",
    "    * For now pick average of 1 or 2 last years of data (e.g., 2023-2024)\n",
    "    * For past pick average of 1 or 2 years in the past data (e.g., 2018-2019)"
   ]
  },
  {
   "cell_type": "markdown",
   "id": "bc51fcf3",
   "metadata": {},
   "source": [
    "## 7. Analysis of High Volume Intraday on Data Releases\n",
    "1. Find out in a way how much to keep out of each day (e.g., 10 minutes before and 10 minutes after the event)\n",
    "2. Volatility within -5m/-1m, 1m, 1m-5m, >5m (% to understand when the market moves the most)"
   ]
  },
  {
   "cell_type": "markdown",
   "id": "35d833c8",
   "metadata": {},
   "source": [
    "## 8. Correlation of USD pairs and DXY price movements"
   ]
  },
  {
   "cell_type": "markdown",
   "id": "8b50f961",
   "metadata": {},
   "source": [
    "1. Correlation heatmap\n",
    "2. Identify which one moves first if not all together to see for arbritrage opportunity"
   ]
  },
  {
   "cell_type": "markdown",
   "id": "c9324dbe",
   "metadata": {},
   "source": [
    "-------"
   ]
  },
  {
   "cell_type": "markdown",
   "id": "cf054d74",
   "metadata": {},
   "source": [
    "# <span style=\"color:blue\">Bloomberg Terminal Data</span>\n",
    "1. **Last 7 years (2018-2025) of data with datetime and Expected vs Actual for:** (calculate surprise as well)\n",
    "    * IR\n",
    "    * CPI\n",
    "    * GDP\n",
    "    * PMI\n",
    "    * UNRATE  \n",
    "<br>\n",
    "<br>\n",
    "\n",
    "2. **Minutes for all the single macro events above with volume if possible**\n",
    "    * USD/GBP\n",
    "    * USD/EUR\n",
    "    * USD/CNY\n",
    "    * DXY\n",
    "    \n",
    "    \n",
    "## Things to check\n",
    "1. Can I get FX minute data for 2018 for example?"
   ]
  }
 ],
 "metadata": {
  "kernelspec": {
   "display_name": "Python 3 (ipykernel)",
   "language": "python",
   "name": "python3"
  },
  "language_info": {
   "codemirror_mode": {
    "name": "ipython",
    "version": 3
   },
   "file_extension": ".py",
   "mimetype": "text/x-python",
   "name": "python",
   "nbconvert_exporter": "python",
   "pygments_lexer": "ipython3",
   "version": "3.10.9"
  }
 },
 "nbformat": 4,
 "nbformat_minor": 5
}
